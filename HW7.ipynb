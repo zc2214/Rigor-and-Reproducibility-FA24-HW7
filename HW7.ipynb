{
  "nbformat": 4,
  "nbformat_minor": 0,
  "metadata": {
    "colab": {
      "provenance": [],
      "authorship_tag": "ABX9TyNFrEEESAvxJxU6i03dLNSc",
      "include_colab_link": true
    },
    "kernelspec": {
      "name": "python3",
      "display_name": "Python 3"
    },
    "language_info": {
      "name": "python"
    }
  },
  "cells": [
    {
      "cell_type": "markdown",
      "metadata": {
        "id": "view-in-github",
        "colab_type": "text"
      },
      "source": [
        "<a href=\"https://colab.research.google.com/github/zc2214/Rigor-and-Reproducibility-FA24-HW7/blob/main/HW7.ipynb\" target=\"_parent\"><img src=\"https://colab.research.google.com/assets/colab-badge.svg\" alt=\"Open In Colab\"/></a>"
      ]
    },
    {
      "cell_type": "markdown",
      "source": [
        "## date"
      ],
      "metadata": {
        "id": "NNTbOHouw_ik"
      }
    },
    {
      "cell_type": "code",
      "source": [
        "from datetime import date\n",
        "\n",
        "today = date.today()\n",
        "\n",
        "print(\"Today's date is:\", today)\n"
      ],
      "metadata": {
        "colab": {
          "base_uri": "https://localhost:8080/"
        },
        "id": "p2X0nKnEwJ8u",
        "outputId": "4140b642-8057-4088-f03c-0b4371f80fc6"
      },
      "execution_count": null,
      "outputs": [
        {
          "output_type": "stream",
          "name": "stdout",
          "text": [
            "Today's date is: 2024-10-28\n"
          ]
        }
      ]
    },
    {
      "cell_type": "markdown",
      "source": [
        "## simple arithmetic operation"
      ],
      "metadata": {
        "id": "tR6vPMWGw7vE"
      }
    },
    {
      "cell_type": "code",
      "source": [
        "print(1 + 1)"
      ],
      "metadata": {
        "colab": {
          "base_uri": "https://localhost:8080/"
        },
        "id": "vjZDc-d_w-en",
        "outputId": "31c9aaf6-26b3-4516-c1da-753d8294cd97"
      },
      "execution_count": 4,
      "outputs": [
        {
          "output_type": "stream",
          "name": "stdout",
          "text": [
            "2\n"
          ]
        }
      ]
    },
    {
      "cell_type": "markdown",
      "source": [
        "## Write a brief reflection (no more than 300 words) on how using repositories, tracking changes and publishing like GitHub can help with computational reproducibility."
      ],
      "metadata": {
        "id": "NZEfT-tZxE_o"
      }
    },
    {
      "cell_type": "markdown",
      "source": [
        "Using repositories and version control tools like GitHub can significantly enhance computational reproducibility. By tracking changes meticulously, GitHub allows researchers to document every step of the computational process, making it easier to understand and replicate results. Each commit serves as a snapshot of the code at a particular stage, making it possible to roll back to earlier versions or explore the evolution of a project, which is invaluable for verifying results and troubleshooting errors.\n",
        "\n",
        "Publishing on GitHub also promotes transparency and collaborative development. When code, data, and documentation are openly accessible, others can independently verify findings, offer improvements, or adapt methods to new studies. This open-access approach ensures that computational workflows are preserved beyond the initial research project, promoting longevity in research findings and a robust basis for future work. Moreover, GitHub’s integration with issue tracking and pull requests enables structured peer review, where contributors can suggest changes, discuss implementations, and refine methodologies collaboratively.\n",
        "\n",
        "Repositories also provide an environment where dependencies and environments can be documented, ensuring that projects can be reproduced across different systems. Tools like GitHub Actions further enhance reproducibility by automating testing and deployment, ensuring code runs as expected with each update. Overall, using GitHub for version control and publication strengthens the reliability of computational research, allowing it to be built upon and validated by the scientific community."
      ],
      "metadata": {
        "id": "AsUcK4GHxY-8"
      }
    },
    {
      "cell_type": "code",
      "source": [],
      "metadata": {
        "id": "aoYjgkiOxfdV"
      },
      "execution_count": null,
      "outputs": []
    }
  ]
}